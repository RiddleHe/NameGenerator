{
  "nbformat": 4,
  "nbformat_minor": 0,
  "metadata": {
    "colab": {
      "provenance": [],
      "machine_shape": "hm",
      "gpuType": "T4"
    },
    "kernelspec": {
      "name": "python3",
      "display_name": "Python 3"
    },
    "language_info": {
      "name": "python"
    },
    "accelerator": "GPU"
  },
  "cells": [
    {
      "cell_type": "code",
      "source": [
        "device = torch.device('cuda' if torch.cuda.is_available() else 'cpu')"
      ],
      "metadata": {
        "id": "256XNQJJ-UI7"
      },
      "execution_count": null,
      "outputs": []
    },
    {
      "cell_type": "code",
      "source": [
        "print(torch.cuda.is_available())"
      ],
      "metadata": {
        "colab": {
          "base_uri": "https://localhost:8080/"
        },
        "id": "3WgEBtgL-O-X",
        "outputId": "7ac19c97-2763-4e70-9907-df7a8d50dd53"
      },
      "execution_count": null,
      "outputs": [
        {
          "output_type": "stream",
          "name": "stdout",
          "text": [
            "True\n"
          ]
        }
      ]
    },
    {
      "cell_type": "code",
      "execution_count": null,
      "metadata": {
        "id": "0wcsowg-v1LS"
      },
      "outputs": [],
      "source": [
        "import torch\n",
        "import torch.nn.functional as F\n",
        "import matplotlib.pyplot as plt\n",
        "%matplotlib inline"
      ]
    },
    {
      "cell_type": "code",
      "source": [
        "class Linear:\n",
        "\n",
        "  def __init__(self, fan_in, fan_out, bias=True):\n",
        "    self.weights = torch.randn((fan_in, fan_out), device=device)\n",
        "    self.bias = None if not bias else torch.randn((fan_out), device=device)\n",
        "\n",
        "  def __call__(self, x):\n",
        "    self.out = x@self.weights\n",
        "    if self.bias is not None:\n",
        "      self.out += self.bias\n",
        "    return self.out\n",
        "\n",
        "  def parameters(self):\n",
        "    return [self.weights] + ([] if self.bias is None else [self.bias])"
      ],
      "metadata": {
        "id": "fCRJjoF4xtvU"
      },
      "execution_count": null,
      "outputs": []
    },
    {
      "cell_type": "code",
      "source": [
        "class BatchNorm1d:\n",
        "\n",
        "  def __init__(self, dim, eps=1e-5, momentum=0.01):\n",
        "    self.eps = eps\n",
        "    self.momentum = momentum\n",
        "    self.training = True\n",
        "    # weights\n",
        "    self.gamma = torch.ones((dim), device=device)\n",
        "    self.beta = torch.zeros((dim), device=device)\n",
        "    # buffer\n",
        "    self.running_mean = torch.zeros((dim), device=device)\n",
        "    self.running_var = torch.ones((dim), device=device)\n",
        "\n",
        "  def __call__(self, x):\n",
        "    if self.training:\n",
        "      if x.ndim==2:\n",
        "        dim = 0\n",
        "      else:\n",
        "        dim = (0,1)\n",
        "      x_mean = x.mean(dim, keepdim=True)\n",
        "      x_var = x.var(dim, keepdim=True)\n",
        "    else:\n",
        "      x_mean = self.running_mean\n",
        "      x_var = self.running_var\n",
        "    self.out = (x-x_mean)/torch.sqrt(x_var+self.eps)\n",
        "    self.out = self.gamma*self.out+self.beta\n",
        "    if self.training:\n",
        "      self.running_mean = (1-self.momentum)*self.running_mean+self.momentum*x_mean\n",
        "      self.running_var = (1-self.momentum)*self.running_var+self.momentum*x_var\n",
        "    return self.out\n",
        "\n",
        "  def parameters(self):\n",
        "    return [self.gamma] + [self.beta]"
      ],
      "metadata": {
        "id": "AOwqndSVyOij"
      },
      "execution_count": null,
      "outputs": []
    },
    {
      "cell_type": "code",
      "source": [
        "class Tanh:\n",
        "\n",
        "  def __call__(self, x):\n",
        "    self.out = torch.tanh(x)\n",
        "    return self.out\n",
        "\n",
        "  def parameters(self):\n",
        "    return []"
      ],
      "metadata": {
        "id": "jhmNsD4rz5if"
      },
      "execution_count": null,
      "outputs": []
    },
    {
      "cell_type": "code",
      "source": [
        "class Embedding:\n",
        "\n",
        "  def __init__(self, n_emb, n_dim):\n",
        "    self.weight = torch.randn((n_emb, n_dim), device=device)\n",
        "\n",
        "  def __call__(self, x):\n",
        "    self.out = self.weight[x]\n",
        "    return self.out\n",
        "\n",
        "  def parameters(self):\n",
        "    return [self.weight]"
      ],
      "metadata": {
        "id": "b79F2GUU0C32"
      },
      "execution_count": null,
      "outputs": []
    },
    {
      "cell_type": "code",
      "source": [
        "class Flatten:\n",
        "\n",
        "  def __init__(self, n):\n",
        "    self.n = n\n",
        "\n",
        "  def __call__(self, x):\n",
        "    B, T, C = x.shape\n",
        "    x = x.view(B, T//self.n, C*self.n)\n",
        "    if x.shape[1]==1:\n",
        "      x = x.squeeze()\n",
        "    self.out = x\n",
        "    return self.out\n",
        "\n",
        "  def parameters(self):\n",
        "    return []"
      ],
      "metadata": {
        "id": "BenTyQMX0n_a"
      },
      "execution_count": null,
      "outputs": []
    },
    {
      "cell_type": "code",
      "source": [
        "class Sequential:\n",
        "\n",
        "  def __init__(self, layers):\n",
        "    self.layers = layers\n",
        "\n",
        "  def __call__(self, x):\n",
        "    for layer in self.layers:\n",
        "      x = layer(x)\n",
        "    self.out = x\n",
        "    return self.out\n",
        "\n",
        "  def parameters(self):\n",
        "    return [p for layer in self.layers for p in layer.parameters()]"
      ],
      "metadata": {
        "id": "HWUt9YIo0-E7"
      },
      "execution_count": null,
      "outputs": []
    }
  ]
}